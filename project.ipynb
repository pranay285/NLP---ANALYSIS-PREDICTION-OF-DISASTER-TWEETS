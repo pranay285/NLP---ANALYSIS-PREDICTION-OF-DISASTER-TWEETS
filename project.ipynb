{
 "cells": [
  {
   "cell_type": "code",
   "execution_count": 2,
   "metadata": {
    "colab": {
     "base_uri": "https://localhost:8080/"
    },
    "id": "O929tyL20gVO",
    "outputId": "42a35c7d-67bb-402a-e784-f134220abe89"
   },
   "outputs": [
    {
     "name": "stderr",
     "output_type": "stream",
     "text": [
      "[nltk_data] Downloading package stopwords to\n",
      "[nltk_data]     /Users/anuraag/nltk_data...\n",
      "[nltk_data]   Package stopwords is already up-to-date!\n",
      "[nltk_data] Downloading package wordnet to /Users/anuraag/nltk_data...\n",
      "[nltk_data]   Package wordnet is already up-to-date!\n"
     ]
    }
   ],
   "source": [
    "import numpy as np \n",
    "import pandas as pd \n",
    "import matplotlib.pyplot as plt\n",
    "import seaborn as sns\n",
    "from sklearn.model_selection import train_test_split\n",
    "import random\n",
    "from bs4 import BeautifulSoup\n",
    "import re\n",
    "import nltk\n",
    "nltk.download('stopwords')\n",
    "nltk.download('wordnet')\n",
    "from nltk.corpus import stopwords\n",
    "from nltk.stem import WordNetLemmatizer\n",
    "from nltk.tokenize import TweetTokenizer\n",
    "from sklearn.feature_extraction.text import CountVectorizer\n",
    "from sklearn.feature_extraction.text import TfidfTransformer\n",
    "from sklearn.feature_extraction.text import TfidfVectorizer\n",
    "from gensim.models import Word2Vec\n",
    "from gensim.models import KeyedVectors\n",
    "from scipy.sparse import hstack\n",
    "from tqdm import tqdm\n",
    "\n",
    "%matplotlib inline"
   ]
  },
  {
   "cell_type": "code",
   "execution_count": 3,
   "metadata": {
    "colab": {
     "base_uri": "https://localhost:8080/",
     "height": 206
    },
    "id": "q6mGqhrL0gVO",
    "outputId": "902735c8-b063-4149-b142-d2753857fddb"
   },
   "outputs": [
    {
     "data": {
      "text/html": [
       "<div>\n",
       "<style scoped>\n",
       "    .dataframe tbody tr th:only-of-type {\n",
       "        vertical-align: middle;\n",
       "    }\n",
       "\n",
       "    .dataframe tbody tr th {\n",
       "        vertical-align: top;\n",
       "    }\n",
       "\n",
       "    .dataframe thead th {\n",
       "        text-align: right;\n",
       "    }\n",
       "</style>\n",
       "<table border=\"1\" class=\"dataframe\">\n",
       "  <thead>\n",
       "    <tr style=\"text-align: right;\">\n",
       "      <th></th>\n",
       "      <th>id</th>\n",
       "      <th>keyword</th>\n",
       "      <th>location</th>\n",
       "      <th>text</th>\n",
       "      <th>target</th>\n",
       "    </tr>\n",
       "  </thead>\n",
       "  <tbody>\n",
       "    <tr>\n",
       "      <th>0</th>\n",
       "      <td>1</td>\n",
       "      <td>NaN</td>\n",
       "      <td>NaN</td>\n",
       "      <td>Our Deeds are the Reason of this #earthquake M...</td>\n",
       "      <td>1</td>\n",
       "    </tr>\n",
       "    <tr>\n",
       "      <th>1</th>\n",
       "      <td>4</td>\n",
       "      <td>NaN</td>\n",
       "      <td>NaN</td>\n",
       "      <td>Forest fire near La Ronge Sask. Canada</td>\n",
       "      <td>1</td>\n",
       "    </tr>\n",
       "    <tr>\n",
       "      <th>2</th>\n",
       "      <td>5</td>\n",
       "      <td>NaN</td>\n",
       "      <td>NaN</td>\n",
       "      <td>All residents asked to 'shelter in place' are ...</td>\n",
       "      <td>1</td>\n",
       "    </tr>\n",
       "    <tr>\n",
       "      <th>3</th>\n",
       "      <td>6</td>\n",
       "      <td>NaN</td>\n",
       "      <td>NaN</td>\n",
       "      <td>13,000 people receive #wildfires evacuation or...</td>\n",
       "      <td>1</td>\n",
       "    </tr>\n",
       "    <tr>\n",
       "      <th>4</th>\n",
       "      <td>7</td>\n",
       "      <td>NaN</td>\n",
       "      <td>NaN</td>\n",
       "      <td>Just got sent this photo from Ruby #Alaska as ...</td>\n",
       "      <td>1</td>\n",
       "    </tr>\n",
       "  </tbody>\n",
       "</table>\n",
       "</div>"
      ],
      "text/plain": [
       "   id keyword location                                               text  \\\n",
       "0   1     NaN      NaN  Our Deeds are the Reason of this #earthquake M...   \n",
       "1   4     NaN      NaN             Forest fire near La Ronge Sask. Canada   \n",
       "2   5     NaN      NaN  All residents asked to 'shelter in place' are ...   \n",
       "3   6     NaN      NaN  13,000 people receive #wildfires evacuation or...   \n",
       "4   7     NaN      NaN  Just got sent this photo from Ruby #Alaska as ...   \n",
       "\n",
       "   target  \n",
       "0       1  \n",
       "1       1  \n",
       "2       1  \n",
       "3       1  \n",
       "4       1  "
      ]
     },
     "execution_count": 3,
     "metadata": {},
     "output_type": "execute_result"
    }
   ],
   "source": [
    "train_df = pd.read_csv('train.csv')\n",
    "train_df.head()"
   ]
  },
  {
   "cell_type": "markdown",
   "metadata": {
    "id": "lukDMemr0gVP"
   },
   "source": [
    "**Columns**\n",
    "\n",
    "**id** - a unique identifier for each tweet\n",
    "\n",
    "**text** - the text of the tweet\n",
    "\n",
    "**location** - the location the tweet was sent from (may be blank)\n",
    "\n",
    "**keyword** - a particular keyword from the tweet (may be blank)\n",
    "\n",
    "**target** - in train.csv only, this denotes whether a tweet is about a real disaster (1) or not (0)"
   ]
  },
  {
   "cell_type": "code",
   "execution_count": 4,
   "metadata": {
    "colab": {
     "base_uri": "https://localhost:8080/"
    },
    "id": "-jUbdmLZ0gVP",
    "outputId": "5f12bca8-a0e1-478c-a49d-9dd49607b23d"
   },
   "outputs": [
    {
     "name": "stdout",
     "output_type": "stream",
     "text": [
      "Shape of the train dataset (7613, 5)\n"
     ]
    }
   ],
   "source": [
    "print('Shape of the train dataset',train_df.shape)"
   ]
  },
  {
   "cell_type": "code",
   "execution_count": 16,
   "metadata": {},
   "outputs": [],
   "source": [
    "test_df = pd.read_csv('test.csv')"
   ]
  },
  {
   "cell_type": "markdown",
   "metadata": {
    "id": "weo1Zzmx0gVP"
   },
   "source": [
    "# **Exploratory Data Analysis**"
   ]
  },
  {
   "cell_type": "markdown",
   "metadata": {
    "id": "4QbHR9Ij0gVQ"
   },
   "source": [
    "### **Distribution of class labels of the training dataset**"
   ]
  },
  {
   "cell_type": "code",
   "execution_count": 5,
   "metadata": {
    "colab": {
     "base_uri": "https://localhost:8080/",
     "height": 262
    },
    "id": "WxitKvqj0gVQ",
    "outputId": "1841049f-b6f8-459c-ea8f-0be89cf265ab"
   },
   "outputs": [
    {
     "data": {
      "image/png": "[encoded data removed]",
      "text/plain": [
       "<Figure size 432x288 with 1 Axes>"
      ]
     },
     "metadata": {
      "needs_background": "light"
     },
     "output_type": "display_data"
    }
   ],
   "source": [
    "train_df['target'].value_counts().plot(kind='bar')\n",
    "plt.show()"
   ]
  },
  {
   "cell_type": "markdown",
   "metadata": {
    "id": "MJgIykwm0gVQ"
   },
   "source": [
    "* **The bar plot demonstrates that we have a reasonable amount of data from both classes, indicating that we won't have any problems with data imbalance.**"
   ]
  },
  {
   "cell_type": "markdown",
   "metadata": {
    "id": "Kj3KIb3y0gVQ"
   },
   "source": [
    "### **Checking For Nan Value Along the columns in tha dataframe**"
   ]
  },
  {
   "cell_type": "code",
   "execution_count": 6,
   "metadata": {
    "colab": {
     "base_uri": "https://localhost:8080/"
    },
    "id": "BqRynZat0gVQ",
    "outputId": "582bed25-ecfb-4036-9181-85553977e5b3"
   },
   "outputs": [
    {
     "data": {
      "text/plain": [
       "id             0\n",
       "keyword       61\n",
       "location    2533\n",
       "text           0\n",
       "target         0\n",
       "dtype: int64"
      ]
     },
     "execution_count": 6,
     "metadata": {},
     "output_type": "execute_result"
    }
   ],
   "source": [
    "train_df.isna().sum(axis=0)"
   ]
  },
  {
   "cell_type": "markdown",
   "metadata": {
    "id": "twjRJ3Zq0gVQ"
   },
   "source": [
    "* **In this project we are just going to use only text feature for modeling**"
   ]
  },
  {
   "cell_type": "markdown",
   "metadata": {
    "id": "hIa6kLSz0gVQ"
   },
   "source": [
    "### **Data Cleaning**"
   ]
  },
  {
   "cell_type": "markdown",
   "metadata": {
    "id": "yVw6urPX0gVR"
   },
   "source": [
    "#### **Deduplication of tweets**"
   ]
  },
  {
   "cell_type": "code",
   "execution_count": 7,
   "metadata": {
    "colab": {
     "base_uri": "https://localhost:8080/"
    },
    "id": "TPpFs2Jm0gVR",
    "outputId": "1a5ca766-1436-44c9-af71-17cdd2eae865"
   },
   "outputs": [
    {
     "data": {
      "text/plain": [
       "48      Check these out: http://t.co/rOI2NSmEJJ http:/...\n",
       "115     320 [IR] ICEMOON [AFTERSHOCK] | http://t.co/vA...\n",
       "119     320 [IR] ICEMOON [AFTERSHOCK] | http://t.co/TH...\n",
       "164     Experts in France begin examining airplane deb...\n",
       "624                            To fight bioterrorism sir.\n",
       "                              ...                        \n",
       "7600    Evacuation order lifted for town of Roosevelt:...\n",
       "7607    #stormchase Violent Record Breaking EF-5 El Re...\n",
       "7609    @aria_ahrary @TheTawniest The out of control w...\n",
       "7610    M1.94 [01:04 UTC]?5km S of Volcano Hawaii. htt...\n",
       "7611    Police investigating after an e-bike collided ...\n",
       "Name: text, Length: 110, dtype: object"
      ]
     },
     "execution_count": 7,
     "metadata": {},
     "output_type": "execute_result"
    }
   ],
   "source": [
    "train_df.text[train_df.text.duplicated()]"
   ]
  },
  {
   "cell_type": "markdown",
   "metadata": {
    "id": "pPYSCLxQ0gVR"
   },
   "source": [
    "* **We discovered 110 duplicate tweets; we are keeping only one instance of the tweet and deleting the rest.**"
   ]
  },
  {
   "cell_type": "code",
   "execution_count": 8,
   "metadata": {
    "id": "vNDmRYRn0gVR"
   },
   "outputs": [],
   "source": [
    "train_df.text.drop_duplicates(keep='first', inplace=True)"
   ]
  },
  {
   "cell_type": "markdown",
   "metadata": {
    "id": "S8FZzXE00gVR"
   },
   "source": [
    "### **Text Preprocessing**"
   ]
  },
  {
   "cell_type": "code",
   "execution_count": 9,
   "metadata": {
    "colab": {
     "base_uri": "https://localhost:8080/"
    },
    "id": "fpHvQxhj0gVR",
    "outputId": "6d0db2b3-203d-4a4b-9ed0-a9cf37172766"
   },
   "outputs": [
    {
     "name": "stdout",
     "output_type": "stream",
     "text": [
      "0-day bug in fully patched OS X comes under active exploit to bypass password ... - Ars Technica http://t.co/53P4oOO1XN\n",
      "@indiepopmom I CANT BREATHE MY LUNGS COLLAPSED\n",
      "#ABCNews Obama Declares Disaster for Typhoon-Devastated Saipan: Obama signs disaster declaration for No... http://t.co/DOBZc3piTM #World\n",
      "Learn How I Gained Access To The Secrets Of The Top Earners &amp; Used Them To Explode My Home Business Here: http://t.co/8rABhQrTh5 Please #RT\n",
      "Will be dropping fire selfie tomorrow saying 'you're welcome' ahead of time.\n"
     ]
    }
   ],
   "source": [
    "#printing some random tweets\n",
    "for i in range(1,6):\n",
    "    tweet_no = random.randint(0,train_df.shape[0])\n",
    "    print(train_df.text.loc[tweet_no])"
   ]
  },
  {
   "cell_type": "markdown",
   "metadata": {
    "id": "ox5V13al0gVR"
   },
   "source": [
    "* **We can see that most tweets have hyperlinks, hashtags(#), tags(@), stock market stickers like $GT, old style retweet text RT, and certain signs like..., etc. by running the above code for multiples. We will remove all of this unnecessary content.**"
   ]
  },
  {
   "cell_type": "code",
   "execution_count": 10,
   "metadata": {
    "id": "l8F_61kG0gVR"
   },
   "outputs": [],
   "source": [
    "stop_words = stopwords.words('english')\n",
    "lemmatizer = WordNetLemmatizer()"
   ]
  },
  {
   "cell_type": "code",
   "execution_count": 11,
   "metadata": {},
   "outputs": [
    {
     "name": "stdout",
     "output_type": "stream",
     "text": [
      "['i', 'me', 'my', 'myself', 'we', 'our', 'ours', 'ourselves', 'you', \"you're\", \"you've\", \"you'll\", \"you'd\", 'your', 'yours', 'yourself', 'yourselves', 'he', 'him', 'his', 'himself', 'she', \"she's\", 'her', 'hers', 'herself', 'it', \"it's\", 'its', 'itself', 'they', 'them', 'their', 'theirs', 'themselves', 'what', 'which', 'who', 'whom', 'this', 'that', \"that'll\", 'these', 'those', 'am', 'is', 'are', 'was', 'were', 'be', 'been', 'being', 'have', 'has', 'had', 'having', 'do', 'does', 'did', 'doing', 'a', 'an', 'the', 'and', 'but', 'if', 'or', 'because', 'as', 'until', 'while', 'of', 'at', 'by', 'for', 'with', 'about', 'against', 'between', 'into', 'through', 'during', 'before', 'after', 'above', 'below', 'to', 'from', 'up', 'down', 'in', 'out', 'on', 'off', 'over', 'under', 'again', 'further', 'then', 'once', 'here', 'there', 'when', 'where', 'why', 'how', 'all', 'any', 'both', 'each', 'few', 'more', 'most', 'other', 'some', 'such', 'no', 'nor', 'not', 'only', 'own', 'same', 'so', 'than', 'too', 'very', 's', 't', 'can', 'will', 'just', 'don', \"don't\", 'should', \"should've\", 'now', 'd', 'll', 'm', 'o', 're', 've', 'y', 'ain', 'aren', \"aren't\", 'couldn', \"couldn't\", 'didn', \"didn't\", 'doesn', \"doesn't\", 'hadn', \"hadn't\", 'hasn', \"hasn't\", 'haven', \"haven't\", 'isn', \"isn't\", 'ma', 'mightn', \"mightn't\", 'mustn', \"mustn't\", 'needn', \"needn't\", 'shan', \"shan't\", 'shouldn', \"shouldn't\", 'wasn', \"wasn't\", 'weren', \"weren't\", 'won', \"won't\", 'wouldn', \"wouldn't\"]\n"
     ]
    }
   ],
   "source": [
    "print(stop_words)"
   ]
  },
  {
   "cell_type": "code",
   "execution_count": 12,
   "metadata": {
    "id": "Nx0-f77o0gVR"
   },
   "outputs": [],
   "source": [
    "def decontracted(phrase):\n",
    "    # specific\n",
    "    phrase = re.sub(r\"won't\", \"will not\", phrase)\n",
    "    phrase = re.sub(r\"can\\'t\", \"can not\", phrase)\n",
    "\n",
    "    # general\n",
    "    phrase = re.sub(r\"n\\'t\", \" not\", phrase)\n",
    "    phrase = re.sub(r\"\\'re\", \" are\", phrase)\n",
    "    phrase = re.sub(r\"\\'s\", \" is\", phrase)\n",
    "    phrase = re.sub(r\"\\'d\", \" would\", phrase)\n",
    "    phrase = re.sub(r\"\\'ll\", \" will\", phrase)\n",
    "    phrase = re.sub(r\"\\'t\", \" not\", phrase)\n",
    "    phrase = re.sub(r\"\\'ve\", \" have\", phrase)\n",
    "    phrase = re.sub(r\"\\'m\", \" am\", phrase)\n",
    "    return phrase"
   ]
  },
  {
   "cell_type": "code",
   "execution_count": 13,
   "metadata": {
    "id": "Qqn7Z4Wj0gVS"
   },
   "outputs": [],
   "source": [
    "def pre_process_text_data(df, column_name='text'):\n",
    "    \n",
    "    pre_processed_tweets = []\n",
    "    for tweet in df[column_name].values:# [This is KESHAV@123]\n",
    "         tweet = ' '.join(t.lower() for t in tweet.split() if t.lower() not in stop_words) # stop word removal\n",
    "         # remove hyperlinks\n",
    "         tweet = re.sub(r\"http\\S+\", \"\", tweet)\n",
    "         tweet = BeautifulSoup(tweet, 'lxml').get_text() # removes html code\n",
    "         tweet = decontracted(tweet)\n",
    "         # remove words with numbers\n",
    "         tweet = re.sub(\"\\S*\\d\\S*\", \"\", tweet).strip()\n",
    "         # remove spacial character\n",
    "         tweet = re.sub('[^A-Za-z]+', ' ', tweet)\n",
    "         # remove stock market tickers like $GE\n",
    "         tweet = re.sub(r'\\$\\w*', '', tweet)\n",
    "         # remove old style retweet text \"RT\"\n",
    "         tweet = re.sub(r'^RT[\\s]+', '', tweet)\n",
    "         # remove hashtag  @, ... sign from the word\n",
    "         tweet = re.sub(r'\\.{3}|@|#|û_', '', tweet) #\n",
    "         # tokenize tweets\n",
    "         tokenizer = TweetTokenizer(preserve_case=False, strip_handles=True, reduce_len=True)\n",
    "         tweet_tokens = tokenizer.tokenize(tweet)\n",
    "         cleaned_token = []\n",
    "         for token in tweet_tokens:\n",
    "                if  len(token) > 2:\n",
    "                 lemma_word = lemmatizer.lemmatize(token) \n",
    "                 cleaned_token.append(token)\n",
    "         tweet = ' '.join(cleaned_token)\n",
    "         pre_processed_tweets.append(tweet)\n",
    "    return pre_processed_tweets"
   ]
  },
  {
   "cell_type": "code",
   "execution_count": 14,
   "metadata": {
    "id": "hUzJgTQp0gVX"
   },
   "outputs": [
    {
     "name": "stderr",
     "output_type": "stream",
     "text": [
      "/opt/anaconda3/lib/python3.9/site-packages/bs4/__init__.py:435: MarkupResemblesLocatorWarning: The input looks more like a filename than markup. You may want to open this file and pass the filehandle into Beautiful Soup.\n",
      "  warnings.warn(\n"
     ]
    }
   ],
   "source": [
    "pre_processed_tweets = pre_process_text_data(train_df, column_name='text')"
   ]
  },
  {
   "cell_type": "code",
   "execution_count": 18,
   "metadata": {
    "id": "XiXmruspY_gI"
   },
   "outputs": [],
   "source": [
    "pre_processed_tweets_test = pre_process_text_data(test_df, column_name='text')"
   ]
  },
  {
   "cell_type": "code",
   "execution_count": 19,
   "metadata": {
    "colab": {
     "base_uri": "https://localhost:8080/"
    },
    "id": "vpofI6un0gVX",
    "outputId": "0912f8c3-f39f-428f-ac00-d7902ea91ee1"
   },
   "outputs": [
    {
     "data": {
      "text/plain": [
       "['deeds reason earthquake may allah forgive',\n",
       " 'forest fire near ronge sask canada',\n",
       " 'residents asked ishelter place notified officers evacuation shelter place orders expected',\n",
       " 'people receive wildfires evacuation orders california',\n",
       " 'got sent photo ruby alaska smoke wildfires pours school']"
      ]
     },
     "execution_count": 19,
     "metadata": {},
     "output_type": "execute_result"
    }
   ],
   "source": [
    "pre_processed_tweets[:5]"
   ]
  },
  {
   "cell_type": "markdown",
   "metadata": {
    "id": "rVpmhjfy0gVX"
   },
   "source": [
    "#### **New DataFrame Was Created with Preprocessed Tweets and Target Label**"
   ]
  },
  {
   "cell_type": "code",
   "execution_count": 20,
   "metadata": {
    "colab": {
     "base_uri": "https://localhost:8080/",
     "height": 224
    },
    "id": "fG8sLd3h0gVX",
    "outputId": "40a9a4b4-95a3-4766-bcb8-5033037345c5"
   },
   "outputs": [
    {
     "name": "stdout",
     "output_type": "stream",
     "text": [
      "Shape of the dataframe: (7613, 2)\n"
     ]
    },
    {
     "data": {
      "text/html": [
       "<div>\n",
       "<style scoped>\n",
       "    .dataframe tbody tr th:only-of-type {\n",
       "        vertical-align: middle;\n",
       "    }\n",
       "\n",
       "    .dataframe tbody tr th {\n",
       "        vertical-align: top;\n",
       "    }\n",
       "\n",
       "    .dataframe thead th {\n",
       "        text-align: right;\n",
       "    }\n",
       "</style>\n",
       "<table border=\"1\" class=\"dataframe\">\n",
       "  <thead>\n",
       "    <tr style=\"text-align: right;\">\n",
       "      <th></th>\n",
       "      <th>tweets</th>\n",
       "      <th>target</th>\n",
       "    </tr>\n",
       "  </thead>\n",
       "  <tbody>\n",
       "    <tr>\n",
       "      <th>0</th>\n",
       "      <td>deeds reason earthquake may allah forgive</td>\n",
       "      <td>1</td>\n",
       "    </tr>\n",
       "    <tr>\n",
       "      <th>1</th>\n",
       "      <td>forest fire near ronge sask canada</td>\n",
       "      <td>1</td>\n",
       "    </tr>\n",
       "    <tr>\n",
       "      <th>2</th>\n",
       "      <td>residents asked ishelter place notified office...</td>\n",
       "      <td>1</td>\n",
       "    </tr>\n",
       "    <tr>\n",
       "      <th>3</th>\n",
       "      <td>people receive wildfires evacuation orders cal...</td>\n",
       "      <td>1</td>\n",
       "    </tr>\n",
       "    <tr>\n",
       "      <th>4</th>\n",
       "      <td>got sent photo ruby alaska smoke wildfires pou...</td>\n",
       "      <td>1</td>\n",
       "    </tr>\n",
       "  </tbody>\n",
       "</table>\n",
       "</div>"
      ],
      "text/plain": [
       "                                              tweets  target\n",
       "0          deeds reason earthquake may allah forgive       1\n",
       "1                 forest fire near ronge sask canada       1\n",
       "2  residents asked ishelter place notified office...       1\n",
       "3  people receive wildfires evacuation orders cal...       1\n",
       "4  got sent photo ruby alaska smoke wildfires pou...       1"
      ]
     },
     "execution_count": 20,
     "metadata": {},
     "output_type": "execute_result"
    }
   ],
   "source": [
    "new_df = pd.DataFrame(\n",
    "                        data = {\n",
    "                            'tweets':pre_processed_tweets,\n",
    "                            'target':train_df.target.values\n",
    "                        },\n",
    "                        columns = ['tweets', 'target']\n",
    "                     )\n",
    "\n",
    "print('Shape of the dataframe:',new_df.shape)\n",
    "new_df.head()"
   ]
  },
  {
   "cell_type": "code",
   "execution_count": 21,
   "metadata": {
    "id": "_LYChOVt0gVX"
   },
   "outputs": [],
   "source": [
    "new_df.to_csv('pre_processed_tweets.csv',index=False)"
   ]
  },
  {
   "cell_type": "code",
   "execution_count": 22,
   "metadata": {
    "id": "1dPGmyuf0gVY"
   },
   "outputs": [],
   "source": [
    "X = new_df.tweets.copy()\n",
    "y = new_df.target.copy()"
   ]
  },
  {
   "cell_type": "markdown",
   "metadata": {
    "id": "NowqgIrY0gVY"
   },
   "source": [
    "# **Train Test Validation Split**"
   ]
  },
  {
   "cell_type": "code",
   "execution_count": 23,
   "metadata": {
    "id": "UZdA_Lbk0gVY"
   },
   "outputs": [],
   "source": [
    "X_train, X_val, y_train, y_val = train_test_split(X, y, test_size=0.15, random_state=42, stratify=y)"
   ]
  },
  {
   "cell_type": "markdown",
   "metadata": {
    "id": "Ch7qQ13A0gVY"
   },
   "source": [
    "# **Featurization**"
   ]
  },
  {
   "cell_type": "markdown",
   "metadata": {
    "id": "5AHSTfl50gVY"
   },
   "source": [
    "### **Bag of Words**"
   ]
  },
  {
   "cell_type": "code",
   "execution_count": 24,
   "metadata": {
    "colab": {
     "base_uri": "https://localhost:8080/"
    },
    "id": "aUePgGQK0gVY",
    "outputId": "ab19cebd-70b3-4f7b-993b-8a2a0afb4efc"
   },
   "outputs": [
    {
     "name": "stdout",
     "output_type": "stream",
     "text": [
      "some feature names  ['aaa' 'aaalll' 'aaand' 'aaarrrgghhh' 'aace' 'aan' 'aannnd' 'aar'\n",
      " 'aaronthefm' 'aashiqui']\n",
      "==================================================\n",
      "the type of count vectorizer  <class 'scipy.sparse.csr.csr_matrix'>\n",
      "the shape of out text BOW vectorizer  (6471, 14015)\n",
      "the number of unique words  14015\n"
     ]
    }
   ],
   "source": [
    "#BoW\n",
    "count_vect = CountVectorizer() #in scikit-learn\n",
    "count_vect.fit(X_train)\n",
    "print(\"some feature names \", count_vect.get_feature_names_out()[:10])\n",
    "print('='*50)\n",
    "\n",
    "X_train_bow = count_vect.transform(X_train)\n",
    "print(\"the type of count vectorizer \",type(X_train_bow))\n",
    "print(\"the shape of out text BOW vectorizer \",X_train_bow.get_shape())\n",
    "print(\"the number of unique words \", X_train_bow.get_shape()[1])"
   ]
  },
  {
   "cell_type": "code",
   "execution_count": 25,
   "metadata": {
    "colab": {
     "base_uri": "https://localhost:8080/"
    },
    "id": "mBbdqCgK0gVY",
    "outputId": "ff88a247-10b2-4fab-f13c-374da0a78847"
   },
   "outputs": [
    {
     "name": "stdout",
     "output_type": "stream",
     "text": [
      "the shape of out text BOW vectorizer  (1142, 14015)\n"
     ]
    }
   ],
   "source": [
    "X_val_bow = count_vect.transform(X_val)\n",
    "print(\"the shape of out text BOW vectorizer \", X_val_bow.get_shape())"
   ]
  },
  {
   "cell_type": "markdown",
   "metadata": {
    "id": "9E8P1aMC0gVY"
   },
   "source": [
    "### **Bi-Grams and n-Grams**"
   ]
  },
  {
   "cell_type": "code",
   "execution_count": 26,
   "metadata": {
    "colab": {
     "base_uri": "https://localhost:8080/"
    },
    "id": "udKWMhBa0gVY",
    "outputId": "a8786267-99a4-4c7c-d09f-0fea25a0aab2"
   },
   "outputs": [
    {
     "name": "stdout",
     "output_type": "stream",
     "text": [
      "the type of count vectorizer  <class 'scipy.sparse.csr.csr_matrix'>\n",
      "the shape of out text BOW vectorizer  (6471, 89484)\n",
      "the number of unique words including both unigrams and bigrams  89484\n"
     ]
    }
   ],
   "source": [
    "count_vect_grams = CountVectorizer(ngram_range=(1,3), min_df=1)\n",
    "X_train_bow_bigram = count_vect_grams.fit_transform(X_train)\n",
    "print(\"the type of count vectorizer \",type(X_train_bow_bigram))\n",
    "print(\"the shape of out text BOW vectorizer \",X_train_bow_bigram.get_shape())\n",
    "print(\"the number of unique words including both unigrams and bigrams \", X_train_bow_bigram.get_shape()[1])"
   ]
  },
  {
   "cell_type": "code",
   "execution_count": 27,
   "metadata": {
    "colab": {
     "base_uri": "https://localhost:8080/"
    },
    "id": "Ztyu7LyA0gVY",
    "outputId": "1b2de521-e214-479d-eea2-a6e48eae747f"
   },
   "outputs": [
    {
     "name": "stdout",
     "output_type": "stream",
     "text": [
      "the shape of out text BOW vectorizer  (1142, 89484)\n"
     ]
    }
   ],
   "source": [
    "X_val_bow_bigram = count_vect_grams.transform(X_val)\n",
    "print(\"the shape of out text BOW vectorizer \", X_val_bow_bigram.get_shape())"
   ]
  },
  {
   "cell_type": "markdown",
   "metadata": {
    "id": "I99YyQQ30gVY"
   },
   "source": [
    "### **TF-IDF With Bigrams**"
   ]
  },
  {
   "cell_type": "code",
   "execution_count": 28,
   "metadata": {
    "colab": {
     "base_uri": "https://localhost:8080/"
    },
    "id": "JpN3o0fV0gVY",
    "outputId": "bdea8b93-bbf7-49de-9dce-c34321a8d3c1"
   },
   "outputs": [
    {
     "name": "stdout",
     "output_type": "stream",
     "text": [
      "some sample features(unique words in the corpus) ['aaa' 'aaa lemme' 'aaalll' 'aaalll even' 'aaand' 'aaand there'\n",
      " 'aaarrrgghhh' 'aace' 'aace org' 'aan']\n",
      "==================================================\n",
      "the type of count vectorizer  <class 'scipy.sparse.csr.csr_matrix'>\n",
      "the shape of out text TFIDF vectorizer  (6471, 52939)\n",
      "the number of unique words including both unigrams and bigrams  52939\n"
     ]
    }
   ],
   "source": [
    "tf_idf_vect = TfidfVectorizer(ngram_range=(1,2))\n",
    "tf_idf_vect.fit(X_train)\n",
    "print(\"some sample features(unique words in the corpus)\",tf_idf_vect.get_feature_names_out()[0:10])\n",
    "print('='*50)\n",
    "\n",
    "X_train_tfidf = tf_idf_vect.transform(X_train)\n",
    "print(\"the type of count vectorizer \",type(X_train_tfidf))\n",
    "print(\"the shape of out text TFIDF vectorizer \",X_train_tfidf.get_shape())\n",
    "print(\"the number of unique words including both unigrams and bigrams \", X_train_tfidf.get_shape()[1])"
   ]
  },
  {
   "cell_type": "code",
   "execution_count": 29,
   "metadata": {
    "colab": {
     "base_uri": "https://localhost:8080/"
    },
    "id": "FdI9Vawn0gVY",
    "outputId": "a62a65ad-199c-4a6d-ed9a-40f06d3733ef"
   },
   "outputs": [
    {
     "name": "stdout",
     "output_type": "stream",
     "text": [
      "the shape of out text TFIDF vectorizer  (1142, 52939)\n"
     ]
    }
   ],
   "source": [
    "X_val_tfidf = tf_idf_vect.transform(X_val)\n",
    "print(\"the shape of out text TFIDF vectorizer \", X_val_tfidf.get_shape())"
   ]
  },
  {
   "cell_type": "markdown",
   "metadata": {
    "id": "Hpu6Qy8itElG"
   },
   "source": [
    "**Modeling**"
   ]
  },
  {
   "cell_type": "code",
   "execution_count": 30,
   "metadata": {
    "id": "ZKc1MSpT2OpV"
   },
   "outputs": [],
   "source": [
    "from sklearn.metrics import accuracy_score, classification_report, confusion_matrix\n",
    "from sklearn.model_selection import GridSearchCV\n",
    "from sklearn.naive_bayes import MultinomialNB"
   ]
  },
  {
   "cell_type": "markdown",
   "metadata": {
    "id": "SgUO3j78wJ3o"
   },
   "source": [
    "**MultinomialNB: Bag Of Words**"
   ]
  },
  {
   "cell_type": "code",
   "execution_count": 31,
   "metadata": {
    "id": "RJJidUopyr83"
   },
   "outputs": [],
   "source": [
    "params = {\n",
    "          'alpha': [0.01, 0.1, 0.5, 1.0, 10.0]\n",
    "         }"
   ]
  },
  {
   "cell_type": "code",
   "execution_count": 32,
   "metadata": {
    "colab": {
     "base_uri": "https://localhost:8080/"
    },
    "id": "Mcn-NsiDwSd4",
    "outputId": "71f78c3c-84a0-4a6a-aaa8-ce5a129f55f6"
   },
   "outputs": [
    {
     "name": "stdout",
     "output_type": "stream",
     "text": [
      "Fitting 5 folds for each of 5 candidates, totalling 25 fits\n"
     ]
    },
    {
     "data": {
      "text/plain": [
       "GridSearchCV(cv=5, estimator=MultinomialNB(), n_jobs=-1,\n",
       "             param_grid={'alpha': [0.01, 0.1, 0.5, 1.0, 10.0]}, verbose=5)"
      ]
     },
     "execution_count": 32,
     "metadata": {},
     "output_type": "execute_result"
    }
   ],
   "source": [
    "clf = MultinomialNB()\n",
    "grid = GridSearchCV(clf, param_grid=params, n_jobs=-1, cv=5, verbose=5)\n",
    "grid.fit(X_train_bow, y_train)"
   ]
  },
  {
   "cell_type": "code",
   "execution_count": 33,
   "metadata": {
    "colab": {
     "base_uri": "https://localhost:8080/"
    },
    "id": "kQcXtBnCwljz",
    "outputId": "8e631ebf-32b0-4466-d163-01d5f9939dda"
   },
   "outputs": [
    {
     "data": {
      "text/plain": [
       "{'alpha': 10.0}"
      ]
     },
     "execution_count": 33,
     "metadata": {},
     "output_type": "execute_result"
    }
   ],
   "source": [
    "grid.best_params_"
   ]
  },
  {
   "cell_type": "code",
   "execution_count": 34,
   "metadata": {
    "colab": {
     "base_uri": "https://localhost:8080/"
    },
    "id": "Sde3Hv5bpZ2d",
    "outputId": "d70614c7-dfd6-40e2-d8b4-6a5abe03d8bb"
   },
   "outputs": [
    {
     "name": "stdout",
     "output_type": "stream",
     "text": [
      "              precision    recall  f1-score   support\n",
      "\n",
      "           0       0.90      0.81      0.85       726\n",
      "           1       0.71      0.84      0.77       416\n",
      "\n",
      "    accuracy                           0.82      1142\n",
      "   macro avg       0.81      0.82      0.81      1142\n",
      "weighted avg       0.83      0.82      0.82      1142\n",
      "\n"
     ]
    }
   ],
   "source": [
    "clf = MultinomialNB(alpha=10).fit(X_train_bow,y_train)\n",
    "pred = clf.predict(X_val_bow)\n",
    "\n",
    "print(classification_report(pred,y_val))"
   ]
  },
  {
   "cell_type": "markdown",
   "metadata": {
    "id": "RxLdfcvatfoU"
   },
   "source": [
    "**MultinomialNB: BOW BI-GRAMS**"
   ]
  },
  {
   "cell_type": "code",
   "execution_count": 35,
   "metadata": {
    "colab": {
     "base_uri": "https://localhost:8080/"
    },
    "id": "WqoDMG3itdiu",
    "outputId": "6cef4290-3985-4343-f19e-32a967f3bec4"
   },
   "outputs": [
    {
     "name": "stdout",
     "output_type": "stream",
     "text": [
      "              precision    recall  f1-score   support\n",
      "\n",
      "           0       0.91      0.80      0.85       734\n",
      "           1       0.71      0.85      0.77       408\n",
      "\n",
      "    accuracy                           0.82      1142\n",
      "   macro avg       0.81      0.83      0.81      1142\n",
      "weighted avg       0.83      0.82      0.82      1142\n",
      "\n"
     ]
    }
   ],
   "source": [
    "clf = MultinomialNB(alpha=10).fit(X_train_bow_bigram,y_train)\n",
    "pred = clf.predict(X_val_bow_bigram)\n",
    "\n",
    "print(classification_report(pred,y_val))"
   ]
  },
  {
   "cell_type": "markdown",
   "metadata": {
    "id": "hQ4WDrunuMjB"
   },
   "source": [
    "**MultinomialNB: TF-IDF**"
   ]
  },
  {
   "cell_type": "code",
   "execution_count": 36,
   "metadata": {
    "colab": {
     "base_uri": "https://localhost:8080/"
    },
    "id": "1lcGvEJqurnE",
    "outputId": "d55f0383-4f7d-42d9-d625-05f2d3f9dca7"
   },
   "outputs": [
    {
     "name": "stdout",
     "output_type": "stream",
     "text": [
      "Fitting 5 folds for each of 5 candidates, totalling 25 fits\n"
     ]
    },
    {
     "data": {
      "text/plain": [
       "GridSearchCV(cv=5, estimator=MultinomialNB(alpha=10), n_jobs=-1,\n",
       "             param_grid={'alpha': [0.01, 0.1, 0.5, 1.0, 10.0]}, verbose=5)"
      ]
     },
     "execution_count": 36,
     "metadata": {},
     "output_type": "execute_result"
    }
   ],
   "source": [
    "grid = GridSearchCV(clf, param_grid=params, n_jobs=-1, cv=5, verbose=5)\n",
    "grid.fit(X_train_tfidf, y_train)"
   ]
  },
  {
   "cell_type": "code",
   "execution_count": 37,
   "metadata": {
    "colab": {
     "base_uri": "https://localhost:8080/"
    },
    "id": "acs2w7k6u28k",
    "outputId": "4bbc5109-9eb1-4cd6-fc13-18b4fb1b8be5"
   },
   "outputs": [
    {
     "data": {
      "text/plain": [
       "{'alpha': 1.0}"
      ]
     },
     "execution_count": 37,
     "metadata": {},
     "output_type": "execute_result"
    }
   ],
   "source": [
    "grid.best_params_"
   ]
  },
  {
   "cell_type": "code",
   "execution_count": 38,
   "metadata": {
    "colab": {
     "base_uri": "https://localhost:8080/"
    },
    "id": "_RZUYwdguSQL",
    "outputId": "02166e83-7c5b-4fb0-b5b6-1274e2e88836"
   },
   "outputs": [
    {
     "name": "stdout",
     "output_type": "stream",
     "text": [
      "              precision    recall  f1-score   support\n",
      "\n",
      "           0       0.92      0.80      0.85       748\n",
      "           1       0.69      0.86      0.77       394\n",
      "\n",
      "    accuracy                           0.82      1142\n",
      "   macro avg       0.80      0.83      0.81      1142\n",
      "weighted avg       0.84      0.82      0.82      1142\n",
      "\n"
     ]
    }
   ],
   "source": [
    "clf = MultinomialNB(alpha=0.5).fit(X_train_tfidf,y_train)\n",
    "pred = clf.predict(X_val_tfidf)\n",
    "\n",
    "print(classification_report(pred,y_val))"
   ]
  },
  {
   "cell_type": "markdown",
   "metadata": {
    "id": "XAGH9EOrzZtz"
   },
   "source": [
    "**XGBOOST TF-IDF BIGRAM**"
   ]
  },
  {
   "cell_type": "code",
   "execution_count": 39,
   "metadata": {
    "colab": {
     "base_uri": "https://localhost:8080/"
    },
    "id": "DHd5xto8z5bN",
    "outputId": "4934dcae-f4e2-4030-9891-86c1a8cd0ffa"
   },
   "outputs": [
    {
     "name": "stdout",
     "output_type": "stream",
     "text": [
      "Fitting 3 folds for each of 8 candidates, totalling 24 fits\n"
     ]
    },
    {
     "data": {
      "text/plain": [
       "GridSearchCV(cv=3,\n",
       "             estimator=XGBClassifier(base_score=None, booster=None,\n",
       "                                     callbacks=None, colsample_bylevel=None,\n",
       "                                     colsample_bynode=None,\n",
       "                                     colsample_bytree=None,\n",
       "                                     early_stopping_rounds=None,\n",
       "                                     enable_categorical=False, eval_metric=None,\n",
       "                                     feature_types=None, gamma=None,\n",
       "                                     gpu_id=None, grow_policy=None,\n",
       "                                     importance_type=None,\n",
       "                                     interaction_constraints=None,\n",
       "                                     learning_rate=None,...\n",
       "                                     max_delta_step=None, max_depth=None,\n",
       "                                     max_leaves=None, min_child_weight=None,\n",
       "                                     missing=nan, monotone_constraints=None,\n",
       "                                     n_estimators=100, n_jobs=None,\n",
       "                                     num_parallel_tree=None, predictor=None,\n",
       "                                     random_state=None, ...),\n",
       "             n_jobs=-1,\n",
       "             param_grid={'colsample_bytree': [0.7, 1],\n",
       "                         'learning_rate': [0.001, 0.01],\n",
       "                         'subsample': [0.7, 1]},\n",
       "             return_train_score=True, scoring='accuracy', verbose=2)"
      ]
     },
     "execution_count": 39,
     "metadata": {},
     "output_type": "execute_result"
    }
   ],
   "source": [
    "import xgboost as xgb\n",
    "\n",
    "params = {\n",
    "        'learning_rate':[0.001,0.01],\n",
    "        'colsample_bytree':[0.7,1],\n",
    "        'subsample':[0.7,1],\n",
    "          }\n",
    "        \n",
    "clf = xgb.XGBClassifier()          \n",
    "grid = GridSearchCV(clf,params,cv=3,scoring='accuracy',return_train_score=True,verbose=2,n_jobs=-1)\n",
    "grid.fit(X_train_tfidf, y_train)"
   ]
  },
  {
   "cell_type": "code",
   "execution_count": 40,
   "metadata": {
    "colab": {
     "base_uri": "https://localhost:8080/"
    },
    "id": "7Seg1a4P2R6u",
    "outputId": "fd662d36-bde5-4ded-fd6e-7d0401558287"
   },
   "outputs": [
    {
     "data": {
      "text/plain": [
       "{'colsample_bytree': 0.7, 'learning_rate': 0.01, 'subsample': 1}"
      ]
     },
     "execution_count": 40,
     "metadata": {},
     "output_type": "execute_result"
    }
   ],
   "source": [
    "grid.best_params_"
   ]
  },
  {
   "cell_type": "code",
   "execution_count": 41,
   "metadata": {
    "colab": {
     "base_uri": "https://localhost:8080/"
    },
    "id": "-5Kuv3JE2T46",
    "outputId": "66793405-9c1d-49ea-ab96-f65223c54261"
   },
   "outputs": [
    {
     "data": {
      "text/plain": [
       "0.664348632359759"
      ]
     },
     "execution_count": 41,
     "metadata": {},
     "output_type": "execute_result"
    }
   ],
   "source": [
    "grid.best_score_"
   ]
  },
  {
   "cell_type": "markdown",
   "metadata": {},
   "source": [
    "# Analyzing User Reactions"
   ]
  },
  {
   "cell_type": "code",
   "execution_count": 43,
   "metadata": {},
   "outputs": [
    {
     "data": {
      "image/png": "[encoded data removed]",
      "text/plain": [
       "<Figure size 576x432 with 2 Axes>"
      ]
     },
     "metadata": {
      "needs_background": "light"
     },
     "output_type": "display_data"
    },
    {
     "name": "stdout",
     "output_type": "stream",
     "text": [
      "[CV 2/5] END ........................alpha=0.01;, score=0.742 total time=   0.0s\n",
      "[CV 2/5] END .........................alpha=1.0;, score=0.791 total time=   0.0s\n",
      "[CV 2/5] END ........................alpha=10.0;, score=0.678 total time=   0.0s\n",
      "[CV] END colsample_bytree=0.7, learning_rate=0.01, subsample=0.7; total time=   2.2s\n",
      "[CV] END colsample_bytree=0.7, learning_rate=0.01, subsample=1; total time=   2.2s\n",
      "[CV] END colsample_bytree=1, learning_rate=0.001, subsample=1; total time=   2.6s\n",
      "[CV 1/5] END .........................alpha=0.1;, score=0.773 total time=   0.0s\n",
      "[CV 1/5] END .........................alpha=1.0;, score=0.786 total time=   0.0s\n",
      "[CV 5/5] END .........................alpha=1.0;, score=0.777 total time=   0.0s\n",
      "[CV 3/5] END ........................alpha=0.01;, score=0.758 total time=   0.0s\n",
      "[CV 1/5] END .........................alpha=0.1;, score=0.781 total time=   0.0s\n",
      "[CV 4/5] END .........................alpha=0.1;, score=0.791 total time=   0.0s\n",
      "[CV 2/5] END .........................alpha=0.5;, score=0.790 total time=   0.0s\n",
      "[CV 5/5] END .........................alpha=0.5;, score=0.787 total time=   0.0s\n",
      "[CV 3/5] END .........................alpha=1.0;, score=0.800 total time=   0.0s\n",
      "[CV 5/5] END .........................alpha=1.0;, score=0.791 total time=   0.0s\n",
      "[CV 3/5] END ........................alpha=10.0;, score=0.684 total time=   0.0s\n",
      "[CV] END colsample_bytree=0.7, learning_rate=0.001, subsample=0.7; total time=   2.3s\n",
      "[CV] END colsample_bytree=0.7, learning_rate=0.01, subsample=1; total time=   2.2s\n",
      "[CV] END colsample_bytree=1, learning_rate=0.001, subsample=1; total time=   2.6s\n",
      "[CV 4/5] END ........................alpha=0.01;, score=0.771 total time=   0.0s\n",
      "[CV 5/5] END .........................alpha=0.5;, score=0.776 total time=   0.0s\n",
      "[CV] END colsample_bytree=0.7, learning_rate=0.001, subsample=1; total time=   2.2s\n",
      "[CV] END colsample_bytree=0.7, learning_rate=0.01, subsample=1; total time=   2.2s\n",
      "[CV] END colsample_bytree=1, learning_rate=0.01, subsample=0.7; total time=   2.6s\n",
      "[CV 3/5] END ........................alpha=0.01;, score=0.756 total time=   0.0s\n",
      "[CV 5/5] END .........................alpha=0.1;, score=0.767 total time=   0.0s\n",
      "[CV 3/5] END .........................alpha=0.5;, score=0.781 total time=   0.0s\n",
      "[CV 1/5] END ........................alpha=10.0;, score=0.795 total time=   0.0s\n",
      "[CV 4/5] END ........................alpha=10.0;, score=0.804 total time=   0.0s\n",
      "[CV] END colsample_bytree=0.7, learning_rate=0.001, subsample=0.7; total time=   2.2s\n",
      "[CV] END colsample_bytree=0.7, learning_rate=0.01, subsample=0.7; total time=   2.3s\n",
      "[CV] END colsample_bytree=1, learning_rate=0.01, subsample=0.7; total time=   2.6s\n",
      "[CV 5/5] END ........................alpha=0.01;, score=0.759 total time=   0.0s\n",
      "[CV 1/5] END .........................alpha=0.5;, score=0.786 total time=   0.0s\n",
      "[CV 4/5] END .........................alpha=0.5;, score=0.795 total time=   0.0s\n",
      "[CV 3/5] END .........................alpha=1.0;, score=0.787 total time=   0.0s\n",
      "[CV 2/5] END ........................alpha=10.0;, score=0.786 total time=   0.0s\n",
      "[CV 5/5] END ........................alpha=10.0;, score=0.790 total time=   0.0s\n",
      "[CV] END colsample_bytree=0.7, learning_rate=0.001, subsample=1; total time=   2.3s\n",
      "[CV] END colsample_bytree=1, learning_rate=0.001, subsample=1; total time=   2.5s\n",
      "[CV] END colsample_bytree=1, learning_rate=0.01, subsample=0.7; total time=   2.5s\n",
      "[CV 1/5] END ........................alpha=0.01;, score=0.764 total time=   0.0s\n",
      "[CV 4/5] END .........................alpha=0.5;, score=0.810 total time=   0.0s\n",
      "[CV 4/5] END .........................alpha=1.0;, score=0.808 total time=   0.0s\n",
      "[CV 4/5] END ........................alpha=10.0;, score=0.684 total time=   0.0s\n",
      "[CV] END colsample_bytree=0.7, learning_rate=0.001, subsample=0.7; total time=   2.3s\n",
      "[CV] END colsample_bytree=1, learning_rate=0.001, subsample=0.7; total time=   2.6s\n",
      "[CV] END colsample_bytree=1, learning_rate=0.01, subsample=1; total time=   2.5s\n",
      "[CV 2/5] END .........................alpha=0.1;, score=0.752 total time=   0.0s\n",
      "[CV 4/5] END .........................alpha=0.1;, score=0.787 total time=   0.0s\n",
      "[CV 2/5] END .........................alpha=1.0;, score=0.768 total time=   0.0s\n",
      "[CV 2/5] END ........................alpha=0.01;, score=0.744 total time=   0.0s\n",
      "[CV 5/5] END ........................alpha=0.01;, score=0.754 total time=   0.0s\n",
      "[CV 3/5] END .........................alpha=0.1;, score=0.784 total time=   0.0s\n",
      "[CV 1/5] END .........................alpha=0.5;, score=0.785 total time=   0.0s\n",
      "[CV] END colsample_bytree=0.7, learning_rate=0.01, subsample=0.7; total time=   2.3s\n",
      "[CV] END colsample_bytree=1, learning_rate=0.001, subsample=0.7; total time=   2.6s\n",
      "[CV] END colsample_bytree=1, learning_rate=0.01, subsample=1; total time=   2.5s\n",
      "[CV 3/5] END .........................alpha=0.1;, score=0.781 total time=   0.0s\n",
      "[CV 2/5] END .........................alpha=0.5;, score=0.760 total time=   0.0s\n",
      "[CV 4/5] END .........................alpha=1.0;, score=0.803 total time=   0.0s\n",
      "[CV 3/5] END ........................alpha=10.0;, score=0.801 total time=   0.0s\n",
      "[CV 1/5] END ........................alpha=0.01;, score=0.753 total time=   0.0s\n",
      "[CV 4/5] END ........................alpha=0.01;, score=0.760 total time=   0.0s\n",
      "[CV 2/5] END .........................alpha=0.1;, score=0.753 total time=   0.0s\n",
      "[CV 5/5] END .........................alpha=0.1;, score=0.760 total time=   0.0s\n",
      "[CV 3/5] END .........................alpha=0.5;, score=0.803 total time=   0.0s\n",
      "[CV 1/5] END .........................alpha=1.0;, score=0.792 total time=   0.0s\n",
      "[CV 1/5] END ........................alpha=10.0;, score=0.679 total time=   0.0s\n",
      "[CV 5/5] END ........................alpha=10.0;, score=0.685 total time=   0.0s\n",
      "[CV] END colsample_bytree=0.7, learning_rate=0.001, subsample=1; total time=   2.3s\n",
      "[CV] END colsample_bytree=1, learning_rate=0.001, subsample=0.7; total time=   2.6s\n",
      "[CV] END colsample_bytree=1, learning_rate=0.01, subsample=1; total time=   2.5s\n"
     ]
    }
   ],
   "source": [
    "# Analyze user reactions\n",
    "def analyze_user_reactions(predictions, y_true):\n",
    "    # Create a confusion matrix\n",
    "    cm = confusion_matrix(y_true, predictions)\n",
    "    \n",
    "    # Plot the confusion matrix as a heatmap\n",
    "    plt.figure(figsize=(8, 6))\n",
    "    sns.heatmap(cm, annot=True, cmap='Blues', fmt='g')\n",
    "    plt.xlabel('Predicted')\n",
    "    plt.ylabel('True')\n",
    "    plt.title('Confusion Matrix: User Reactions')\n",
    "    plt.show()\n",
    "\n",
    "\n",
    "\n",
    "# Fit the classifier\n",
    "clf.fit(X_train_tfidf, y_train)\n",
    "\n",
    "# Make predictions on the validation set\n",
    "predictions = clf.predict(X_val_tfidf)\n",
    "\n",
    "# Analyze user reactions\n",
    "analyze_user_reactions(predictions, y_val)\n",
    "\n"
   ]
  },
  {
   "cell_type": "code",
   "execution_count": 44,
   "metadata": {},
   "outputs": [
    {
     "data": {
      "image/png": "[encoded data removed]",
      "text/plain": [
       "<Figure size 576x432 with 1 Axes>"
      ]
     },
     "metadata": {
      "needs_background": "light"
     },
     "output_type": "display_data"
    },
    {
     "data": {
      "image/png": "[encoded data removed]",
      "text/plain": [
       "<Figure size 720x432 with 1 Axes>"
      ]
     },
     "metadata": {
      "needs_background": "light"
     },
     "output_type": "display_data"
    }
   ],
   "source": [
    "# Analyze user reactions - Visualization of User Reactions\n",
    "import seaborn as sns\n",
    "\n",
    "# Create a dataframe with the predicted labels and true labels\n",
    "user_reactions_df = pd.DataFrame({'Predicted': predictions, 'True': y_val})\n",
    "\n",
    "# Count the occurrences of each user reaction\n",
    "reaction_counts = user_reactions_df['Predicted'].value_counts()\n",
    "\n",
    "# Plot a bar chart of user reactions\n",
    "plt.figure(figsize=(8, 6))\n",
    "sns.barplot(x=reaction_counts.index, y=reaction_counts.values)\n",
    "plt.xlabel('User Reaction')\n",
    "plt.ylabel('Count')\n",
    "plt.title('User Reactions')\n",
    "plt.show()\n",
    "\n",
    "# Analyze user reactions : Visualization of Correct and Incorrect Predictions\n",
    "correct_predictions = user_reactions_df[user_reactions_df['Predicted'] == user_reactions_df['True']]\n",
    "incorrect_predictions = user_reactions_df[user_reactions_df['Predicted'] != user_reactions_df['True']]\n",
    "\n",
    "# Count the occurrences of each user reaction for correct predictions\n",
    "correct_reaction_counts = correct_predictions['Predicted'].value_counts()\n",
    "\n",
    "# Count the occurrences of each user reaction for incorrect predictions\n",
    "incorrect_reaction_counts = incorrect_predictions['Predicted'].value_counts()\n",
    "\n",
    "# Plot a grouped bar chart of correct and incorrect predictions\n",
    "plt.figure(figsize=(10, 6))\n",
    "plt.bar(correct_reaction_counts.index, correct_reaction_counts.values, label='Correct Predictions')\n",
    "plt.bar(incorrect_reaction_counts.index, incorrect_reaction_counts.values, label='Incorrect Predictions')\n",
    "plt.xlabel('User Reaction')\n",
    "plt.ylabel('Count')\n",
    "plt.title('Correct and Incorrect Predictions')\n",
    "plt.legend()\n",
    "plt.show()\n"
   ]
  },
  {
   "cell_type": "code",
   "execution_count": null,
   "metadata": {},
   "outputs": [],
   "source": []
  }
 ],
 "metadata": {
  "colab": {
   "collapsed_sections": [],
   "name": "Natural Language Processing with Disaster Tweets.ipynb",
   "provenance": []
  },
  "kernelspec": {
   "display_name": "Python 3 (ipykernel)",
   "language": "python",
   "name": "python3"
  },
  "language_info": {
   "codemirror_mode": {
    "name": "ipython",
    "version": 3
   },
   "file_extension": ".py",
   "mimetype": "text/x-python",
   "name": "python",
   "nbconvert_exporter": "python",
   "pygments_lexer": "ipython3",
   "version": "3.9.12"
  }
 },
 "nbformat": 4,
 "nbformat_minor": 1
}
